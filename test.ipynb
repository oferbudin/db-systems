{
 "cells": [
  {
   "cell_type": "code",
   "execution_count": 24,
   "id": "f1a4dcb0",
   "metadata": {},
   "outputs": [
    {
     "name": "stderr",
     "output_type": "stream",
     "text": [
      "/var/folders/1m/l62lw4sj1msggc6lrf4hykdw0000gn/T/ipykernel_95239/1619763675.py:8: DtypeWarning: Columns (10) have mixed types. Specify dtype option on import or set low_memory=False.\n",
      "  return pd.read_csv(data_file_name)\n"
     ]
    },
    {
     "name": "stdout",
     "output_type": "stream",
     "text": [
      "   adult                              belongs_to_collection    budget  \\\n",
      "0  False  {'id': 10194, 'name': 'Toy Story Collection', ...  30000000   \n",
      "1  False                                                NaN  65000000   \n",
      "2  False  {'id': 119050, 'name': 'Grumpy Old Men Collect...         0   \n",
      "3  False                                                NaN  16000000   \n",
      "4  False  {'id': 96871, 'name': 'Father of the Bride Col...         0   \n",
      "\n",
      "                                              genres  \\\n",
      "0  [{'id': 16, 'name': 'Animation'}, {'id': 35, '...   \n",
      "1  [{'id': 12, 'name': 'Adventure'}, {'id': 14, '...   \n",
      "2  [{'id': 10749, 'name': 'Romance'}, {'id': 35, ...   \n",
      "3  [{'id': 35, 'name': 'Comedy'}, {'id': 18, 'nam...   \n",
      "4                     [{'id': 35, 'name': 'Comedy'}]   \n",
      "\n",
      "                               homepage     id    imdb_id original_language  \\\n",
      "0  http://toystory.disney.com/toy-story    862  tt0114709                en   \n",
      "1                                   NaN   8844  tt0113497                en   \n",
      "2                                   NaN  15602  tt0113228                en   \n",
      "3                                   NaN  31357  tt0114885                en   \n",
      "4                                   NaN  11862  tt0113041                en   \n",
      "\n",
      "                original_title  \\\n",
      "0                    Toy Story   \n",
      "1                      Jumanji   \n",
      "2             Grumpier Old Men   \n",
      "3            Waiting to Exhale   \n",
      "4  Father of the Bride Part II   \n",
      "\n",
      "                                            overview  ... release_date  \\\n",
      "0  Led by Woody, Andy's toys live happily in his ...  ...   1995-10-30   \n",
      "1  When siblings Judy and Peter discover an encha...  ...   1995-12-15   \n",
      "2  A family wedding reignites the ancient feud be...  ...   1995-12-22   \n",
      "3  Cheated on, mistreated and stepped on, the wom...  ...   1995-12-22   \n",
      "4  Just when George Banks has recovered from his ...  ...   1995-02-10   \n",
      "\n",
      "       revenue runtime                                   spoken_languages  \\\n",
      "0  373554033.0    81.0           [{'iso_639_1': 'en', 'name': 'English'}]   \n",
      "1  262797249.0   104.0  [{'iso_639_1': 'en', 'name': 'English'}, {'iso...   \n",
      "2          0.0   101.0           [{'iso_639_1': 'en', 'name': 'English'}]   \n",
      "3   81452156.0   127.0           [{'iso_639_1': 'en', 'name': 'English'}]   \n",
      "4   76578911.0   106.0           [{'iso_639_1': 'en', 'name': 'English'}]   \n",
      "\n",
      "     status                                            tagline  \\\n",
      "0  Released                                                NaN   \n",
      "1  Released          Roll the dice and unleash the excitement!   \n",
      "2  Released  Still Yelling. Still Fighting. Still Ready for...   \n",
      "3  Released  Friends are the people who let you be yourself...   \n",
      "4  Released  Just When His World Is Back To Normal... He's ...   \n",
      "\n",
      "                         title  video vote_average vote_count  \n",
      "0                    Toy Story  False          7.7     5415.0  \n",
      "1                      Jumanji  False          6.9     2413.0  \n",
      "2             Grumpier Old Men  False          6.5       92.0  \n",
      "3            Waiting to Exhale  False          6.1       34.0  \n",
      "4  Father of the Bride Part II  False          5.7      173.0  \n",
      "\n",
      "[5 rows x 24 columns]\n"
     ]
    }
   ],
   "source": [
    "import pandas as pd\n",
    "\n",
    "\n",
    "movies_data_file_name = 'movies_metadata.csv'\n",
    "credits_data_file_name = 'credits.csv'\n",
    "\n",
    "def load_data(data_file_name):\n",
    "    return pd.read_csv(data_file_name)\n",
    "\n",
    "\n",
    "movies_data = load_data(movies_data_file_name)\n",
    "credits_data = load_data(credits_data_file_name)\n"
   ]
  },
  {
   "cell_type": "code",
   "execution_count": 54,
   "id": "3410e87f",
   "metadata": {},
   "outputs": [
    {
     "name": "stdout",
     "output_type": "stream",
     "text": [
      "('INSERT INTO movies (imdb_id,title) VALUES (%s,%s)', [['tt0114709', 'Toy Story'], ['tt0113497', 'Jumanji']])\n"
     ]
    }
   ],
   "source": [
    "class Column:\n",
    "    def __init__(self, name: str, _type: str):\n",
    "        self.name = name\n",
    "        self.type = _type\n",
    "\n",
    "class Table:\n",
    "    def __init__(self, name: str, data: pd.DataFrame, columns: list[Column]):\n",
    "        self.name = name\n",
    "        self.data = data\n",
    "        self.columns = columns\n",
    "    \n",
    "    def get_records(self):\n",
    "        return self.data[[column.name for column in self.columns]]\n",
    "    \n",
    "    def get_columns(self):\n",
    "        return self.columns\n",
    "\n",
    "    def cretae_table_command(self):\n",
    "        cmd = f\"CREATE TABLE {self.name} (\"\n",
    "        for column in self.columns:\n",
    "            cmd += f\"{column.name} {column.type},\"\n",
    "        cmd = cmd[:-1]\n",
    "        cmd += \")\"\n",
    "        return cmd\n",
    "\n",
    "    def insert_records(self):\n",
    "        cmd = f\"INSERT INTO {self.name} (\"\n",
    "        for column in self.columns:\n",
    "            cmd += f\"{column.name},\"\n",
    "        cmd = cmd[:-1]\n",
    "        cmd += \") VALUES (\"\n",
    "        for i in range(len(self.columns)):\n",
    "            cmd += \"%s,\"\n",
    "        cmd = cmd[:-1]\n",
    "        cmd += \")\"\n",
    "        return cmd, self.get_records().values.tolist()[:2]\n",
    "\n",
    "\n",
    "movies_table = Table(\"movies\", movies_data, [Column(\"imdb_id\", \"INT\"), Column(\"title\", \"VARCHAR(255)\")])\n",
    "print(movies_table.insert_records())"
   ]
  },
  {
   "cell_type": "code",
   "execution_count": null,
   "metadata": {},
   "outputs": [],
   "source": []
  },
  {
   "cell_type": "code",
   "execution_count": null,
   "metadata": {},
   "outputs": [],
   "source": []
  }
 ],
 "metadata": {
  "kernelspec": {
   "display_name": "Python 3 (ipykernel)",
   "language": "python",
   "name": "python3"
  },
  "language_info": {
   "codemirror_mode": {
    "name": "ipython",
    "version": 3
   },
   "file_extension": ".py",
   "mimetype": "text/x-python",
   "name": "python",
   "nbconvert_exporter": "python",
   "pygments_lexer": "ipython3",
   "version": "3.9.7"
  }
 },
 "nbformat": 4,
 "nbformat_minor": 5
}
