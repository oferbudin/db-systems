{
 "cells": [
  {
   "cell_type": "code",
   "execution_count": 111,
   "id": "f1a4dcb0",
   "metadata": {},
   "outputs": [
    {
     "ename": "TypeError",
     "evalue": "read_csv() got an unexpected keyword argument 'encodeing'",
     "output_type": "error",
     "traceback": [
      "\u001b[0;31m---------------------------------------------------------------------------\u001b[0m",
      "\u001b[0;31mTypeError\u001b[0m                                 Traceback (most recent call last)",
      "Cell \u001b[0;32mIn[111], line 11\u001b[0m\n\u001b[1;32m      7\u001b[0m \u001b[39mdef\u001b[39;00m \u001b[39mload_data\u001b[39m(data_file_name):\n\u001b[1;32m      8\u001b[0m     \u001b[39mreturn\u001b[39;00m pd\u001b[39m.\u001b[39mread_csv(data_file_name, encodeing\u001b[39m=\u001b[39m\u001b[39m'\u001b[39m\u001b[39mlatin-1\u001b[39m\u001b[39m'\u001b[39m)\n\u001b[0;32m---> 11\u001b[0m movies_data \u001b[39m=\u001b[39m load_data(movies_data_file_name)\n\u001b[1;32m     12\u001b[0m credits_data \u001b[39m=\u001b[39m load_data(credits_data_file_name)\n",
      "Cell \u001b[0;32mIn[111], line 8\u001b[0m, in \u001b[0;36mload_data\u001b[0;34m(data_file_name)\u001b[0m\n\u001b[1;32m      7\u001b[0m \u001b[39mdef\u001b[39;00m \u001b[39mload_data\u001b[39m(data_file_name):\n\u001b[0;32m----> 8\u001b[0m     \u001b[39mreturn\u001b[39;00m pd\u001b[39m.\u001b[39;49mread_csv(data_file_name, encodeing\u001b[39m=\u001b[39;49m\u001b[39m'\u001b[39;49m\u001b[39mlatin-1\u001b[39;49m\u001b[39m'\u001b[39;49m)\n",
      "\u001b[0;31mTypeError\u001b[0m: read_csv() got an unexpected keyword argument 'encodeing'"
     ]
    }
   ],
   "source": [
    "import pandas as pd\n",
    "\n",
    "\n",
    "movies_data_file_name = 'movies_metadata.csv'\n",
    "credits_data_file_name = 'credits.csv'\n",
    "\n",
    "def load_data(data_file_name):\n",
    "    return pd.read_csv(data_file_name, encodeing='latin-1')\n",
    "\n",
    "\n",
    "movies_data = load_data(movies_data_file_name)\n",
    "credits_data = load_data(credits_data_file_name)\n"
   ]
  },
  {
   "cell_type": "code",
   "execution_count": null,
   "metadata": {},
   "outputs": [],
   "source": [
    "import mysql.connector\n",
    "\n",
    "mydb = mysql.connector.connect(\n",
    "  host=\"localhost\",\n",
    "  user=\"dbeaver\",\n",
    "  password=\"dbeaver\",\n",
    "  database=\"project\"\n",
    ")\n",
    "mycursor = mydb.cursor()\n"
   ]
  },
  {
   "cell_type": "code",
   "execution_count": null,
   "id": "3410e87f",
   "metadata": {},
   "outputs": [
    {
     "name": "stdout",
     "output_type": "stream",
     "text": [
      "None\n",
      "INSERT INTO movies (imdb_id,title) VALUES (%s,%s)\n",
      "None\n"
     ]
    }
   ],
   "source": [
    "class Column:\n",
    "    def __init__(self, name: str, _type: str, converter_funtion = None):\n",
    "        self.name = name\n",
    "        self.type = _type\n",
    "        self.converter_funtion = converter_funtion\n",
    "\n",
    "\n",
    "class Table:\n",
    "    def __init__(self, mycursor, name: str, data: pd.DataFrame, columns: list[Column]):\n",
    "        self.name = name\n",
    "        self.data = data\n",
    "        self.columns = columns\n",
    "        self._mycursor = mycursor\n",
    "    \n",
    "    def get_records(self):\n",
    "        records = []\n",
    "        for column in self.columns:\n",
    "            records.append(self.data[column.name].apply(column.converter_funtion) if column.converter_funtion else self.data[column.name])\n",
    "        return pd.DataFrame(records).T\n",
    "    \n",
    "    def get_columns(self):\n",
    "        return self.columns\n",
    "\n",
    "    def cretae_table_command(self):\n",
    "        cmd = f\"CREATE TABLE IF NOT EXISTS {self.name} (\"\n",
    "        for column in self.columns:\n",
    "            cmd += f\"{column.name} {column.type},\"\n",
    "        cmd = cmd[:-1]\n",
    "        cmd += \")\"\n",
    "        self._mycursor.execute(cmd)\n",
    "\n",
    "    def insert_records(self):\n",
    "        cmd = f\"INSERT INTO {self.name} (\"\n",
    "        for column in self.columns:\n",
    "            cmd += f\"{column.name},\"\n",
    "        cmd = cmd[:-1]\n",
    "        cmd += \") VALUES (\"\n",
    "        for i in range(len(self.columns)):\n",
    "            cmd += \"%s,\"\n",
    "        cmd = cmd[:-1]\n",
    "        cmd += \")\"\n",
    "        self._mycursor.executemany(cmd, self.get_records().values.tolist())\n",
    "\n",
    "\n",
    "movies_table = Table(\n",
    "    mycursor,\n",
    "    \"movies\",\n",
    "    movies_data,\n",
    "    [\n",
    "        Column(\"imdb_id\", \"INT\", lambda x: int(x.replace('tt', '')) if x and type(x) == str else None),\n",
    "        Column(\"title\", \"VARCHAR(255)\")]\n",
    ")\n",
    "print(movies_table.cretae_table_command())\n",
    "print(movies_table.insert_records())"
   ]
  },
  {
   "cell_type": "code",
   "execution_count": null,
   "metadata": {},
   "outputs": [],
   "source": [
    "mycursor.execute(\"SHOW TABLES\")\n",
    "\n",
    "for x in mycursor:\n",
    "  print(x)\n",
    "\n"
   ]
  },
  {
   "cell_type": "code",
   "execution_count": null,
   "metadata": {},
   "outputs": [
    {
     "ename": "UnicodeDecodeError",
     "evalue": "'utf-8' codec can't decode byte 0xfd in position 50974: invalid start byte",
     "output_type": "error",
     "traceback": [
      "\u001b[0;31m---------------------------------------------------------------------------\u001b[0m",
      "\u001b[0;31mUnicodeDecodeError\u001b[0m                        Traceback (most recent call last)",
      "Cell \u001b[0;32mIn[87], line 1\u001b[0m\n\u001b[0;32m----> 1\u001b[0m credits_data \u001b[39m=\u001b[39m load_data(credits_data_file_name)\n",
      "Cell \u001b[0;32mIn[24], line 8\u001b[0m, in \u001b[0;36mload_data\u001b[0;34m(data_file_name)\u001b[0m\n\u001b[1;32m      7\u001b[0m \u001b[39mdef\u001b[39;00m \u001b[39mload_data\u001b[39m(data_file_name):\n\u001b[0;32m----> 8\u001b[0m     \u001b[39mreturn\u001b[39;00m pd\u001b[39m.\u001b[39;49mread_csv(data_file_name)\n",
      "File \u001b[0;32m~/miniforge3/lib/python3.9/site-packages/pandas/io/parsers/readers.py:1026\u001b[0m, in \u001b[0;36mread_csv\u001b[0;34m(filepath_or_buffer, sep, delimiter, header, names, index_col, usecols, dtype, engine, converters, true_values, false_values, skipinitialspace, skiprows, skipfooter, nrows, na_values, keep_default_na, na_filter, verbose, skip_blank_lines, parse_dates, infer_datetime_format, keep_date_col, date_parser, date_format, dayfirst, cache_dates, iterator, chunksize, compression, thousands, decimal, lineterminator, quotechar, quoting, doublequote, escapechar, comment, encoding, encoding_errors, dialect, on_bad_lines, delim_whitespace, low_memory, memory_map, float_precision, storage_options, dtype_backend)\u001b[0m\n\u001b[1;32m   1013\u001b[0m kwds_defaults \u001b[39m=\u001b[39m _refine_defaults_read(\n\u001b[1;32m   1014\u001b[0m     dialect,\n\u001b[1;32m   1015\u001b[0m     delimiter,\n\u001b[0;32m   (...)\u001b[0m\n\u001b[1;32m   1022\u001b[0m     dtype_backend\u001b[39m=\u001b[39mdtype_backend,\n\u001b[1;32m   1023\u001b[0m )\n\u001b[1;32m   1024\u001b[0m kwds\u001b[39m.\u001b[39mupdate(kwds_defaults)\n\u001b[0;32m-> 1026\u001b[0m \u001b[39mreturn\u001b[39;00m _read(filepath_or_buffer, kwds)\n",
      "File \u001b[0;32m~/miniforge3/lib/python3.9/site-packages/pandas/io/parsers/readers.py:626\u001b[0m, in \u001b[0;36m_read\u001b[0;34m(filepath_or_buffer, kwds)\u001b[0m\n\u001b[1;32m    623\u001b[0m     \u001b[39mreturn\u001b[39;00m parser\n\u001b[1;32m    625\u001b[0m \u001b[39mwith\u001b[39;00m parser:\n\u001b[0;32m--> 626\u001b[0m     \u001b[39mreturn\u001b[39;00m parser\u001b[39m.\u001b[39;49mread(nrows)\n",
      "File \u001b[0;32m~/miniforge3/lib/python3.9/site-packages/pandas/io/parsers/readers.py:1923\u001b[0m, in \u001b[0;36mTextFileReader.read\u001b[0;34m(self, nrows)\u001b[0m\n\u001b[1;32m   1916\u001b[0m nrows \u001b[39m=\u001b[39m validate_integer(\u001b[39m\"\u001b[39m\u001b[39mnrows\u001b[39m\u001b[39m\"\u001b[39m, nrows)\n\u001b[1;32m   1917\u001b[0m \u001b[39mtry\u001b[39;00m:\n\u001b[1;32m   1918\u001b[0m     \u001b[39m# error: \"ParserBase\" has no attribute \"read\"\u001b[39;00m\n\u001b[1;32m   1919\u001b[0m     (\n\u001b[1;32m   1920\u001b[0m         index,\n\u001b[1;32m   1921\u001b[0m         columns,\n\u001b[1;32m   1922\u001b[0m         col_dict,\n\u001b[0;32m-> 1923\u001b[0m     ) \u001b[39m=\u001b[39m \u001b[39mself\u001b[39;49m\u001b[39m.\u001b[39;49m_engine\u001b[39m.\u001b[39;49mread(  \u001b[39m# type: ignore[attr-defined]\u001b[39;49;00m\n\u001b[1;32m   1924\u001b[0m         nrows\n\u001b[1;32m   1925\u001b[0m     )\n\u001b[1;32m   1926\u001b[0m \u001b[39mexcept\u001b[39;00m \u001b[39mException\u001b[39;00m:\n\u001b[1;32m   1927\u001b[0m     \u001b[39mself\u001b[39m\u001b[39m.\u001b[39mclose()\n",
      "File \u001b[0;32m~/miniforge3/lib/python3.9/site-packages/pandas/io/parsers/c_parser_wrapper.py:234\u001b[0m, in \u001b[0;36mCParserWrapper.read\u001b[0;34m(self, nrows)\u001b[0m\n\u001b[1;32m    232\u001b[0m \u001b[39mtry\u001b[39;00m:\n\u001b[1;32m    233\u001b[0m     \u001b[39mif\u001b[39;00m \u001b[39mself\u001b[39m\u001b[39m.\u001b[39mlow_memory:\n\u001b[0;32m--> 234\u001b[0m         chunks \u001b[39m=\u001b[39m \u001b[39mself\u001b[39;49m\u001b[39m.\u001b[39;49m_reader\u001b[39m.\u001b[39;49mread_low_memory(nrows)\n\u001b[1;32m    235\u001b[0m         \u001b[39m# destructive to chunks\u001b[39;00m\n\u001b[1;32m    236\u001b[0m         data \u001b[39m=\u001b[39m _concatenate_chunks(chunks)\n",
      "File \u001b[0;32mparsers.pyx:838\u001b[0m, in \u001b[0;36mpandas._libs.parsers.TextReader.read_low_memory\u001b[0;34m()\u001b[0m\n",
      "File \u001b[0;32mparsers.pyx:905\u001b[0m, in \u001b[0;36mpandas._libs.parsers.TextReader._read_rows\u001b[0;34m()\u001b[0m\n",
      "File \u001b[0;32mparsers.pyx:874\u001b[0m, in \u001b[0;36mpandas._libs.parsers.TextReader._tokenize_rows\u001b[0;34m()\u001b[0m\n",
      "File \u001b[0;32mparsers.pyx:891\u001b[0m, in \u001b[0;36mpandas._libs.parsers.TextReader._check_tokenize_status\u001b[0;34m()\u001b[0m\n",
      "File \u001b[0;32mparsers.pyx:2053\u001b[0m, in \u001b[0;36mpandas._libs.parsers.raise_parser_error\u001b[0;34m()\u001b[0m\n",
      "\u001b[0;31mUnicodeDecodeError\u001b[0m: 'utf-8' codec can't decode byte 0xfd in position 50974: invalid start byte"
     ]
    }
   ],
   "source": [
    "credits_data = load_data(credits_data_file_name)"
   ]
  },
  {
   "cell_type": "code",
   "execution_count": null,
   "metadata": {},
   "outputs": [],
   "source": [
    "import json\n",
    "\n",
    "def load_data(data_file_name):\n",
    "    return pd.read_csv(data_file_name, encodeing='latin-1')\n",
    "\n",
    "\n",
    "def get_crew(credits_data):\n",
    "    data = []\n",
    "\n",
    "    for i in range(len(credits_data)):\n",
    "        crew = credits_data['crew'][i]\n",
    "        crew = crew.replace('\\'', '\"')\n",
    "        crew = crew.replace('[', '')\n",
    "        crew = crew.replace(']', '')\n",
    "        for c in crew.split('},'):\n",
    "            try:\n",
    "                crew = json.loads(c + '}')\n",
    "                data.append([credits_data['id'][i], crew['name'], crew['job']]) \n",
    "            except:\n",
    "                pass\n",
    "    crew_to_movie = pd.DataFrame(data, columns=['id', 'name', 'job'])\n",
    "    crew_to_movie = crew_to_movie.sort_values(by=['id'])\n",
    "    crew_to_movie = crew_to_movie.dropna()\n",
    "    crew_to_movie = crew_to_movie[crew_to_movie['id'] <= 400]\n",
    "    \n",
    "    crew = crew_to_movie.copy()\n",
    "    crew = crew.drop_duplicates(subset='name')\n",
    "    crew = crew.reset_index(drop=True)\n",
    "    crew['id'] = crew.index + 1\n",
    "    crew.to_csv('crew_members.csv', index=False)\n",
    "\n",
    "    crew_to_movie = crew_to_movie.merge(crew, on='name')\n",
    "    crew_to_movie = crew_to_movie.drop(columns=['name'])\n",
    "    crew_to_movie = crew_to_movie.drop(columns=['job_x'])\n",
    "    crew_to_movie = crew_to_movie.rename(columns={'id_x': 'movie_id', 'id_y': 'crew_id', 'job_y': 'role'})\n",
    "    crew_to_movie.to_csv('crew_members_movies.csv', index=False)\n",
    "\n",
    "def get_cast():\n",
    "    data = []\n",
    "\n",
    "    for i in range(len(credits_data)):\n",
    "        cast = credits_data['cast'][i]\n",
    "        cast = cast.replace('\\'', '\"')\n",
    "        cast = cast.replace('[', '')\n",
    "        cast = cast.replace(']', '')\n",
    "        for c in cast.split('},'):\n",
    "            try:\n",
    "                cast = json.loads(c + '}')\n",
    "                data.append([credits_data['id'][i], cast['name']]) \n",
    "            except:\n",
    "                pass\n",
    "    cast_to_movie = pd.DataFrame(data, columns=['id', 'name'])\n",
    "    cast_to_movie = cast_to_movie.sort_values(by=['id'])\n",
    "    cast_to_movie = cast_to_movie.dropna()\n",
    "    cast_to_movie = cast_to_movie[cast_to_movie['id'] <= 400]\n",
    "\n",
    "    # keep only names unique and add id\n",
    "    cast_data = cast_to_movie.copy()\n",
    "    cast_data = cast_data.drop_duplicates(subset='name')\n",
    "    cast_data = cast_data.reset_index(drop=True)\n",
    "    cast_data['id'] = cast_data.index + 1\n",
    "    cast_data.to_csv('actors.csv', index=False)\n",
    "\n",
    "    # replace in cast_to_movie the name with id\n",
    "    cast_to_movie = cast_to_movie.merge(cast_data, on='name')\n",
    "    cast_to_movie = cast_to_movie.drop(columns=['name'])\n",
    "    cast_to_movie = cast_to_movie.rename(columns={'id_x': 'movie_id', 'id_y': 'actor_id'})\n",
    "   \n",
    "    cast_to_movie.to_csv('actor_movies.csv', index=False)\n",
    "\n",
    "\n",
    "get_cast()\n",
    "get_crew(credits_data)"
   ]
  },
  {
   "cell_type": "code",
   "execution_count": 114,
   "metadata": {},
   "outputs": [],
   "source": [
    "import pandas as pd\n",
    "def load_data(data_file_name):\n",
    "    return pd.read_csv(data_file_name)\n",
    "\n",
    "am = load_data('crew_members_movies.csv')\n",
    "# sort and drop duplicates\n",
    "am = am.sort_values(by=['movie_id', 'crew_id'])\n",
    "am = am.drop_duplicates(subset=['movie_id', 'crew_id'])\n",
    "am.to_csv('crew_members_movies.csv', index=False)\n"
   ]
  }
 ],
 "metadata": {
  "kernelspec": {
   "display_name": "Python 3 (ipykernel)",
   "language": "python",
   "name": "python3"
  },
  "language_info": {
   "codemirror_mode": {
    "name": "ipython",
    "version": 3
   },
   "file_extension": ".py",
   "mimetype": "text/x-python",
   "name": "python",
   "nbconvert_exporter": "python",
   "pygments_lexer": "ipython3",
   "version": "3.9.7"
  }
 },
 "nbformat": 4,
 "nbformat_minor": 5
}
